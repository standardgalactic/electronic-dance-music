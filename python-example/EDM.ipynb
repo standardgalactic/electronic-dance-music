{
 "metadata": {
  "name": "",
  "signature": "sha256:ce8cb555744d3f6e1c737e47b5f7ae1da52244b793d1b75bb601ddbe82574e0d"
 },
 "nbformat": 3,
 "nbformat_minor": 0,
 "worksheets": [
  {
   "cells": [
    {
     "cell_type": "code",
     "collapsed": false,
     "input": [
      "#Setup env\n",
      "import sys\n",
      "sys.path.append(\"../build/python\")\n",
      "import edm"
     ],
     "language": "python",
     "metadata": {},
     "outputs": [],
     "prompt_number": 1
    },
    {
     "cell_type": "code",
     "collapsed": false,
     "input": [
      "bias = edm.EDMBias(\"input.edm\", 1, 1)"
     ],
     "language": "python",
     "metadata": {},
     "outputs": [],
     "prompt_number": 2
    },
    {
     "cell_type": "code",
     "collapsed": false,
     "input": [
      "box_lo = [0.0]\n",
      "box_hi = [10.0]\n",
      "periodic = [True]\n",
      "\n",
      "bias.set_box(box_lo, box_hi,periodic)"
     ],
     "language": "python",
     "metadata": {},
     "outputs": [],
     "prompt_number": 3
    },
    {
     "cell_type": "code",
     "collapsed": false,
     "input": [
      "bias.add_hill([0.25])"
     ],
     "language": "python",
     "metadata": {},
     "outputs": [],
     "prompt_number": 4
    },
    {
     "cell_type": "code",
     "collapsed": false,
     "input": [
      "bias.get_force([0.24])"
     ],
     "language": "python",
     "metadata": {},
     "outputs": [
      {
       "metadata": {},
       "output_type": "pyout",
       "prompt_number": 5,
       "text": [
        "(1.1002417338159258, [-0.6144025830861709])"
       ]
      }
     ],
     "prompt_number": 5
    },
    {
     "cell_type": "code",
     "collapsed": false,
     "input": [],
     "language": "python",
     "metadata": {},
     "outputs": []
    }
   ],
   "metadata": {}
  }
 ]
}