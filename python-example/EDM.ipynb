{
 "metadata": {
  "name": "",
  "signature": "sha256:23c4b5de5c72a7b2653b6281c03aad318ceb8707de7f20a9eef12d1019a764dc"
 },
 "nbformat": 3,
 "nbformat_minor": 0,
 "worksheets": [
  {
   "cells": [
    {
     "cell_type": "code",
     "collapsed": false,
     "input": [
      "#Setup env\n",
      "import sys\n",
      "sys.path.append(\"../build/python\")\n",
      "import edm, random\n",
      "%load input.edm"
     ],
     "language": "python",
     "metadata": {},
     "outputs": [],
     "prompt_number": 1
    },
    {
     "cell_type": "code",
     "collapsed": false,
     "input": [
      "%%writefile input.edm\n",
      "tempering\t\t0\n",
      "hill_prefactor\t\t1.0\n",
      "dimension \t\t1\n",
      "box_low\t\t\t0.0\n",
      "box_high\t\t1.0\n",
      "bias_spacing\t\t0.01\n",
      "bias_sigma\t\t0.5"
     ],
     "language": "python",
     "metadata": {},
     "outputs": [
      {
       "output_type": "stream",
       "stream": "stdout",
       "text": [
        "Overwriting input.edm\n"
       ]
      }
     ],
     "prompt_number": 2
    },
    {
     "cell_type": "code",
     "collapsed": false,
     "input": [
      "bias = edm.EDMBias(\"input.edm\", 1, 1)"
     ],
     "language": "python",
     "metadata": {},
     "outputs": [],
     "prompt_number": 3
    },
    {
     "cell_type": "code",
     "collapsed": false,
     "input": [
      "box_lo = [0.0]\n",
      "box_hi = [10.0]\n",
      "periodic = [True]\n",
      "\n",
      "bias.set_box(box_lo, box_hi,periodic)"
     ],
     "language": "python",
     "metadata": {},
     "outputs": [],
     "prompt_number": 4
    },
    {
     "cell_type": "code",
     "collapsed": false,
     "input": [
      "bias.add_hill([0.25])"
     ],
     "language": "python",
     "metadata": {},
     "outputs": [],
     "prompt_number": 5
    },
    {
     "cell_type": "code",
     "collapsed": false,
     "input": [
      "bias.get_force([0.24])"
     ],
     "language": "python",
     "metadata": {},
     "outputs": [
      {
       "metadata": {},
       "output_type": "pyout",
       "prompt_number": 6,
       "text": [
        "(1.1002417338159258, [-0.6144025830861709])"
       ]
      }
     ],
     "prompt_number": 6
    },
    {
     "cell_type": "code",
     "collapsed": false,
     "input": [
      "bias.pre_add_hill(1)\n",
      "%time bias.add_hill_r([0.5], 1)\n",
      "bias.post_add_hill()"
     ],
     "language": "python",
     "metadata": {},
     "outputs": []
    },
    {
     "cell_type": "code",
     "collapsed": false,
     "input": [
      "%timeit bias.add_hill([0.5])"
     ],
     "language": "python",
     "metadata": {},
     "outputs": [
      {
       "output_type": "stream",
       "stream": "stdout",
       "text": [
        "10000 loops, best of 3: 28 \u00b5s per loop\n"
       ]
      }
     ],
     "prompt_number": 4
    },
    {
     "cell_type": "code",
     "collapsed": false,
     "input": [],
     "language": "python",
     "metadata": {},
     "outputs": []
    }
   ],
   "metadata": {}
  }
 ]
}